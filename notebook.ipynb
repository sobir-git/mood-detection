{
 "cells": [
  {
   "cell_type": "code",
   "execution_count": 37,
   "metadata": {
    "collapsed": true
   },
   "outputs": [
    {
     "name": "stdout",
     "output_type": "stream",
     "text": [
      "loaded 78 images\n",
      "image shape: (315, 315, 1)\n"
     ]
    }
   ],
   "source": [
    "import os\n",
    "import pandas as pd\n",
    "import torch\n",
    "from cv2 import cv2\n",
    "from sklearn.linear_model import LinearRegression, LogisticRegression, Ridge\n",
    "from sklearn.model_selection import train_test_split, KFold\n",
    "from sklearn.neighbors import KNeighborsRegressor\n",
    "from sklearn.tree import DecisionTreeRegressor\n",
    "from emotion import Embedder, Predictor\n",
    "from face_crop import FaceCropper\n",
    "from utils import MyModel\n",
    "import numpy as np\n",
    "\n",
    "MODEL = 'model.pt'\n",
    "model = MyModel(n_classes=7)\n",
    "model.load_state_dict(torch.load(MODEL))\n",
    "embedder = Embedder(model)\n",
    "\n",
    "\n",
    "def read_images():\n",
    "    x = pd.read_csv('data/labels.csv')\n",
    "    label_dict = dict(zip(x['filename'], x['happiness']))\n",
    "\n",
    "    images = []\n",
    "    labels = []\n",
    "    fc = FaceCropper()\n",
    "\n",
    "    for filename, label in label_dict.items():\n",
    "        img = cv2.imread('data/'+filename)\n",
    "        img = fc.crop_face(img)\n",
    "        # convert to gray\n",
    "        img = cv2.cvtColor(img, cv2.COLOR_BGR2GRAY)\n",
    "\n",
    "        img = img.astype(np.float32) / 255\n",
    "        img = img[:,:,None]\n",
    "\n",
    "        images.append(img)\n",
    "        labels.append(label)\n",
    "    labels = np.array(labels)\n",
    "    images = np.array(images)\n",
    "    return images, labels\n",
    "\n",
    "# images, labels = read_images()\n",
    "# torch.save((images, labels), 'tmp0.pth')\n",
    "images, labels = torch.load('tmp0.pth')\n",
    "orig = labels\n",
    "\n",
    "assert images[0].shape[2] == 1\n",
    "assert images[0].dtype == np.float32\n",
    "print('loaded', len(images), 'images')\n",
    "print('image shape:', images[0].shape)\n"
   ]
  },
  {
   "cell_type": "code",
   "execution_count": 52,
   "outputs": [
    {
     "name": "stdout",
     "output_type": "stream",
     "text": [
      "train mse: 0.5384615384615385\n",
      "test mse: 0.7430769230769232\n",
      "train mse: 0.6207692307692307\n",
      "test mse: 0.5169230769230769\n",
      "train mse: 0.5876923076923077\n",
      "test mse: 0.7523076923076923\n",
      "train mean accuracy: 0.5823076923076923\n",
      "test mean accuracy: 0.6707692307692309\n"
     ]
    }
   ],
   "source": [
    "import importlib\n",
    "import emotion\n",
    "importlib.reload(emotion)\n",
    "\n",
    "\n",
    "from sklearn.metrics import mean_squared_error\n",
    "images = np.array(images)\n",
    "labels = np.sign(orig)\n",
    "labels[labels == 0] = -1\n",
    "# labels = orig\n",
    "\n",
    "train_score = []\n",
    "test_score = []\n",
    "\n",
    "kf = KFold(n_splits=3, shuffle=True)\n",
    "for train_index, test_index in kf.split(images):\n",
    "    images_train, images_test = images[train_index], images[test_index]\n",
    "    labels_train, labels_test = labels[train_index], labels[test_index]\n",
    "    regressor = KNeighborsRegressor(n_neighbors=10, metric='cosine')\n",
    "    # regressor = LinearRegression()\n",
    "    # regressor = Ridge()\n",
    "    # regressor = DecisionTreeRegressor(max_depth=3)\n",
    "    # regressor = LogisticRegression()\n",
    "    predictor = Predictor(embedder, regressor, labels_train, images=images_train)\n",
    "\n",
    "    train_pred = predictor.get_happiness(images_train)\n",
    "    train_score.append(mean_squared_error(labels_train, train_pred))\n",
    "    print('train mse:', train_score[-1])\n",
    "    test_pred  = predictor.get_happiness(images_test)\n",
    "    test_score.append(mean_squared_error(labels_test, test_pred))\n",
    "    print('test mse:', test_score[-1])\n",
    "\n",
    "print('train mean accuracy:', np.mean(train_score))\n",
    "print('test mean accuracy:', np.mean(test_score))"
   ],
   "metadata": {
    "collapsed": false,
    "pycharm": {
     "name": "#%%\n"
    }
   }
  },
  {
   "cell_type": "code",
   "execution_count": 39,
   "outputs": [
    {
     "data": {
      "text/plain": "<matplotlib.image.AxesImage at 0x5a1b952d30>"
     },
     "execution_count": 39,
     "metadata": {},
     "output_type": "execute_result"
    },
    {
     "data": {
      "text/plain": "<Figure size 432x288 with 1 Axes>",
      "image/png": "[encoded data removed]"
     },
     "metadata": {
      "needs_background": "light"
     },
     "output_type": "display_data"
    }
   ],
   "source": [
    "import matplotlib.pyplot as plt\n",
    "\n",
    "import albumentations as A\n",
    "from albumentations.pytorch import transforms as AT\n",
    "\n",
    "\n",
    "T = A.Compose([\n",
    "    A.Resize(48, 48, interpolation=cv2.INTER_LINEAR),\n",
    "    AT.ToTensor(),\n",
    "])\n",
    "\n",
    "img = images[0].copy()\n",
    "assert img.shape[2] == 1, img.shape\n",
    "img = T(image=img)['image'].expand(3, -1, -1)\n",
    "assert img.shape == (3,48,48), img.shape\n",
    "\n",
    "plt.imshow(img.numpy().transpose(1, 2, 0))\n",
    "# or embedder\n",
    "plt.imshow(embedder.transform(images[0]).numpy().transpose(1, 2, 0))"
   ],
   "metadata": {
    "collapsed": false,
    "pycharm": {
     "name": "#%%\n"
    }
   }
  },
  {
   "cell_type": "markdown",
   "source": [
    "## TRAIN"
   ],
   "metadata": {
    "collapsed": false
   }
  },
  {
   "cell_type": "code",
   "source": [
    "# create training set\n",
    "myimages = []\n",
    "t = A.Resize(48,48)\n",
    "for img in images:\n",
    "    img = t(image=img)['image']\n",
    "    myimages.append(img)\n",
    "myimages = np.stack(myimages, axis=0)\n",
    "print(myimages.shape, myimages.dtype)\n",
    "\n",
    "torch.save((myimages, orig), 'myimages.pt')"
   ],
   "metadata": {
    "collapsed": false,
    "pycharm": {
     "name": "#%%\n"
    }
   },
   "execution_count": 57,
   "outputs": [
    {
     "name": "stdout",
     "output_type": "stream",
     "text": [
      "(78, 48, 48, 1) float32\n"
     ]
    }
   ]
  },
  {
   "cell_type": "code",
   "execution_count": 46,
   "outputs": [
    {
     "data": {
      "text/plain": "Counter({6: 67, 4: 1, 5: 1, 3: 7, 2: 2})"
     },
     "execution_count": 46,
     "metadata": {},
     "output_type": "execute_result"
    }
   ],
   "source": [
    "emb = embedder.get_embeddings(images)\n",
    "with torch.no_grad():\n",
    "    model_predictions = model.output(emb)\n",
    "    model_predictions = torch.argmax(model_predictions, dim=1)\n",
    "\n",
    "Counter(model_predictions.tolist())"
   ],
   "metadata": {
    "collapsed": false,
    "pycharm": {
     "name": "#%%\n"
    }
   }
  },
  {
   "cell_type": "code",
   "execution_count": 55,
   "outputs": [
    {
     "data": {
      "text/plain": "array([-1, -1, -1, -1, -1, -1, -1, -1, -1, -1, -1, -1, -1, -1, -1, -1, -1,\n       -1, -1, -1, -1, -1, -1,  1,  1,  2,  2, -2,  2,  2,  2,  2,  2,  1,\n        1,  1,  1,  1,  1,  1,  1,  1,  1,  1,  1,  1,  2,  1,  0, -1, -2,\n       -2, -2,  0,  0, -1, -2, -2, -2, -2, -2, -1, -1,  0, -1, -1, -1, -2,\n       -2, -2, -1, -1, -1, -1, -1,  0,  0, -1])"
     },
     "execution_count": 55,
     "metadata": {},
     "output_type": "execute_result"
    }
   ],
   "source": [],
   "metadata": {
    "collapsed": false,
    "pycharm": {
     "name": "#%%"
    }
   }
  }
 ],
 "metadata": {
  "kernelspec": {
   "display_name": "Python 3",
   "language": "python",
   "name": "python3"
  },
  "language_info": {
   "codemirror_mode": {
    "name": "ipython",
    "version": 2
   },
   "file_extension": ".py",
   "mimetype": "text/x-python",
   "name": "python",
   "nbconvert_exporter": "python",
   "pygments_lexer": "ipython2",
   "version": "2.7.6"
  }
 },
 "nbformat": 4,
 "nbformat_minor": 0
}